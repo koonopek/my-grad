{
 "cells": [
  {
   "cell_type": "code",
   "execution_count": 2,
   "metadata": {},
   "outputs": [],
   "source": [
    "import torch\n",
    "names = open('data/names.txt','r').read()\n",
    "import matplotlib.pyplot as plt # for making figures\n",
    "%matplotlib inline\n",
    "t= torch.tensor"
   ]
  },
  {
   "cell_type": "code",
   "execution_count": 3,
   "metadata": {},
   "outputs": [],
   "source": [
    "SPECIAL = '.'\n",
    "names = names.replace('\\n','.')\n",
    "\n",
    "chars = sorted(list(set(''.join(names))))\n",
    "stoi = {s:i for i,s in enumerate(chars)}\n",
    "itos = {i:s for s,i in stoi.items()}\n",
    "\n",
    "\n",
    "\n",
    "def label_data(context_size, names):\n",
    "    X = []\n",
    "    Y = []\n",
    "    context = [0] * context_size    \n",
    "\n",
    "    \n",
    "    for letter in names + '.':\n",
    "        letter_as_int = stoi[letter]\n",
    "        X.append(context)\n",
    "        Y.append(letter_as_int)\n",
    "        context = context[1:] + [letter_as_int]\n",
    "    \n",
    "\n",
    "    return (X,Y) \n",
    "\n",
    "X,Y = label_data(3, names)\n",
    "\n",
    "def split_data(data):\n",
    "    data_size = len(data)\n",
    "    dev_size = int(data_size*0.8)\n",
    "    tr_size = int(data_size*0.1)\n",
    "    \n",
    "    dev = t(data[:dev_size])\n",
    "    tr = t(data[dev_size:dev_size + tr_size])\n",
    "    tst = t(data[dev_size+tr_size:])\n",
    "    \n",
    "    return (dev,tr,tst)\n",
    "\n",
    "X_dev,X_tr,X_tst = split_data(X)\n",
    "Y_dev,Y_tr,Y_tst = split_data(Y)"
   ]
  },
  {
   "cell_type": "code",
   "execution_count": 96,
   "metadata": {},
   "outputs": [
    {
     "name": "stdout",
     "output_type": "stream",
     "text": [
      "params count: 6097\n"
     ]
    }
   ],
   "source": [
    "# let embeding C E R^m, where m = 2, |V| = 27\n",
    "g = torch.Generator().manual_seed(2147483647) # for reproducibility\n",
    "C = torch.randn((27, 10), generator=g)\n",
    "W1 = torch.randn((30, 100), generator=g)\n",
    "B1 = torch.randn(100, generator=g)\n",
    "W2 = torch.randn((100, 27), generator=g)\n",
    "B2 = torch.randn(27, generator=g)\n",
    "parameters = [C, W1, B1, W2, B2]\n",
    "\n",
    "params = [C,W1,B1,W2,B2]\n",
    "print(\"params count:\",sum(p.nelement() for p in parameters))\n",
    "\n",
    "for p in params:\n",
    "    p.requires_grad = True\n",
    "\n",
    "i = 0\n",
    "lri = []\n",
    "\n",
    "def step(X,Y,lr):\n",
    "    global i\n",
    "    global lri\n",
    "    ix = torch.randint(0, X.shape[0], (32,))\n",
    "\n",
    "    emb = C[X[ix]]\n",
    "    emb_aligned = emb.view(-1,30)\n",
    "    # layer 1 \n",
    "    for param in params:\n",
    "        param.grad = None\n",
    "    \n",
    "    layer_1 = torch.tanh(emb_aligned @ W1 + B1)\n",
    "    layer_2 = layer_1 @ W2 + B2\n",
    "    loss = torch.nn.functional.cross_entropy(layer_2,Y[ix])\n",
    "   \n",
    "    loss.backward()\n",
    "\n",
    "    for param in params:\n",
    "        param.data -= lr * param.grad\n",
    "    \n",
    "    return loss.item()\n",
    "\n",
    "def evaluate(X,Y):\n",
    "    emb = C[X]\n",
    "\n",
    "    layer_1 = torch.tanh(emb.view(-1,30) @ W1 + B1)\n",
    "    layer_2 = layer_1 @ W2 + B2\n",
    "    return torch.nn.functional.cross_entropy(layer_2,Y)\n",
    "\n",
    "\n",
    "\n",
    "# lre = torch.linspace(-4,0, 1000)\n",
    "# lrs = 10 ** lre\n",
    "# for i in range(1000):\n",
    "#     loss = step(X_dev,Y_dev, lrs[i])\n",
    "#     lri.append(loss)\n",
    "# plt.plot(lre,lri)\n",
    "# => \n",
    "lr = 10**-0.5\n",
    "lossi = []"
   ]
  },
  {
   "cell_type": "code",
   "execution_count": 98,
   "metadata": {},
   "outputs": [
    {
     "name": "stdout",
     "output_type": "stream",
     "text": [
      "tensor(2.4525, grad_fn=<NllLossBackward0>)\n",
      "tensor(2.8024, grad_fn=<NllLossBackward0>)\n",
      "tensor(2.8380, grad_fn=<NllLossBackward0>)\n"
     ]
    },
    {
     "data": {
      "image/png": "[encoded data removed]",
      "text/plain": [
       "<Figure size 640x480 with 1 Axes>"
      ]
     },
     "metadata": {},
     "output_type": "display_data"
    }
   ],
   "source": [
    "for i in range(100_000):\n",
    "    loss = step(X_dev, Y_dev, lr)\n",
    "    lossi.append(torch.log10(torch.tensor([loss])).item())\n",
    "\n",
    "plt.plot(lossi)\n",
    "print(evaluate(X_dev,Y_dev))\n",
    "print(evaluate(X_tr,Y_tr))\n",
    "print(evaluate(X_tst,Y_tst))\n"
   ]
  },
  {
   "cell_type": "code",
   "execution_count": 99,
   "metadata": {},
   "outputs": [
    {
     "ename": "KeyboardInterrupt",
     "evalue": "",
     "output_type": "error",
     "traceback": [
      "\u001b[0;31m---------------------------------------------------------------------------\u001b[0m",
      "\u001b[0;31mKeyboardInterrupt\u001b[0m                         Traceback (most recent call last)",
      "\u001b[1;32m/Users/michalkonopka/github/my-grad/my_bengio.ipynb Cell 5\u001b[0m line \u001b[0;36m1\n\u001b[1;32m     <a href='vscode-notebook-cell:/Users/michalkonopka/github/my-grad/my_bengio.ipynb#W5sZmlsZQ%3D%3D?line=15'>16</a>\u001b[0m predicted \u001b[39m=\u001b[39m []\n\u001b[1;32m     <a href='vscode-notebook-cell:/Users/michalkonopka/github/my-grad/my_bengio.ipynb#W5sZmlsZQ%3D%3D?line=17'>18</a>\u001b[0m \u001b[39mwhile\u001b[39;00m \u001b[39mTrue\u001b[39;00m:\n\u001b[0;32m---> <a href='vscode-notebook-cell:/Users/michalkonopka/github/my-grad/my_bengio.ipynb#W5sZmlsZQ%3D%3D?line=18'>19</a>\u001b[0m    predicted_letter_index \u001b[39m=\u001b[39m predict_next_letter(letters_tensor)\n\u001b[1;32m     <a href='vscode-notebook-cell:/Users/michalkonopka/github/my-grad/my_bengio.ipynb#W5sZmlsZQ%3D%3D?line=19'>20</a>\u001b[0m    \u001b[39mif\u001b[39;00m predicted_letter_index \u001b[39m==\u001b[39m \u001b[39m0\u001b[39m:\n\u001b[1;32m     <a href='vscode-notebook-cell:/Users/michalkonopka/github/my-grad/my_bengio.ipynb#W5sZmlsZQ%3D%3D?line=20'>21</a>\u001b[0m       \u001b[39mbreak\u001b[39;00m\n",
      "\u001b[1;32m/Users/michalkonopka/github/my-grad/my_bengio.ipynb Cell 5\u001b[0m line \u001b[0;36m2\n\u001b[1;32m      <a href='vscode-notebook-cell:/Users/michalkonopka/github/my-grad/my_bengio.ipynb#W5sZmlsZQ%3D%3D?line=0'>1</a>\u001b[0m \u001b[39mdef\u001b[39;00m \u001b[39mpredict_next_letter\u001b[39m(letters):\n\u001b[0;32m----> <a href='vscode-notebook-cell:/Users/michalkonopka/github/my-grad/my_bengio.ipynb#W5sZmlsZQ%3D%3D?line=1'>2</a>\u001b[0m     emb \u001b[39m=\u001b[39m C[letters]\n\u001b[1;32m      <a href='vscode-notebook-cell:/Users/michalkonopka/github/my-grad/my_bengio.ipynb#W5sZmlsZQ%3D%3D?line=2'>3</a>\u001b[0m     layer_1 \u001b[39m=\u001b[39m torch\u001b[39m.\u001b[39mtanh(emb\u001b[39m.\u001b[39mview(\u001b[39m-\u001b[39m\u001b[39m1\u001b[39m,\u001b[39m30\u001b[39m) \u001b[39m@\u001b[39m W1 \u001b[39m+\u001b[39m B1)\n\u001b[1;32m      <a href='vscode-notebook-cell:/Users/michalkonopka/github/my-grad/my_bengio.ipynb#W5sZmlsZQ%3D%3D?line=3'>4</a>\u001b[0m     layer_2 \u001b[39m=\u001b[39m layer_1 \u001b[39m@\u001b[39m W2 \u001b[39m+\u001b[39m B2\n",
      "\u001b[0;31mKeyboardInterrupt\u001b[0m: "
     ]
    }
   ],
   "source": [
    "def predict_next_letter(letters):\n",
    "    emb = C[letters]\n",
    "    layer_1 = torch.tanh(emb.view(-1,30) @ W1 + B1)\n",
    "    layer_2 = layer_1 @ W2 + B2\n",
    "    prob_dist = torch.nn.functional.softmax(layer_2,dim=1)\n",
    "    next_letter = torch.multinomial(prob_dist, num_samples=1).item()\n",
    "    return next_letter\n",
    "\n",
    "def s_to_i(letters):\n",
    "   return list(map(lambda l: stoi[l],letters))\n",
    "\n",
    "\n",
    "for i in range(20):\n",
    "   letters = s_to_i(['.','.','.'])\n",
    "   letters_tensor = t(letters)\n",
    "   predicted = []\n",
    "\n",
    "   while True:\n",
    "      predicted_letter_index = predict_next_letter(letters_tensor)\n",
    "      if predicted_letter_index == 0:\n",
    "         break\n",
    "      predicted.append(predicted_letter_index)\n",
    "      letters = letters[1:] + [predict_next_letter]\n",
    "\n",
    "   name = \"\".join(list(map(lambda i: itos[i],predicted)))\n",
    "   print(f'{len(name)=}')\n",
    "      \n",
    "\n",
    "\n"
   ]
  }
 ],
 "metadata": {
  "kernelspec": {
   "display_name": "Python 3",
   "language": "python",
   "name": "python3"
  },
  "language_info": {
   "codemirror_mode": {
    "name": "ipython",
    "version": 3
   },
   "file_extension": ".py",
   "mimetype": "text/x-python",
   "name": "python",
   "nbconvert_exporter": "python",
   "pygments_lexer": "ipython3",
   "version": "3.9.6"
  },
  "orig_nbformat": 4
 },
 "nbformat": 4,
 "nbformat_minor": 2
}
